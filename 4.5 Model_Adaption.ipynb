{
 "cells": [
  {
   "cell_type": "code",
   "execution_count": 1,
   "metadata": {},
   "outputs": [],
   "source": [
    "import pandas as pd\n",
    "import numpy as np\n",
    "import json\n",
    "import matplotlib.pyplot as plt\n",
    "import seaborn as sns\n",
    "%config InlineBackend.figure_format ='retina'\n",
    "\n",
    "import warnings\n",
    "warnings.simplefilter(action='ignore', category=FutureWarning)"
   ]
  },
  {
   "cell_type": "markdown",
   "metadata": {},
   "source": [
    "## Import data"
   ]
  },
  {
   "cell_type": "code",
   "execution_count": 8,
   "metadata": {},
   "outputs": [],
   "source": [
    "#btc options data\n",
    "df=pd.read_csv('data/btc_data.csv', sep=\",\", index_col=0)\n",
    "df = df.reset_index(drop=False)\n",
    "#df.drop(columns=['Unnamed: 0', 'interest_rate'], inplace=True)"
   ]
  },
  {
   "cell_type": "code",
   "execution_count": 12,
   "metadata": {},
   "outputs": [],
   "source": [
    "import pandas as pd\n",
    "import QuantLib as ql\n",
    "\n",
    "# Load the BTC options data\n",
    "btc_data_new = df  # Replace with the actual path"
   ]
  },
  {
   "cell_type": "code",
   "execution_count": 28,
   "metadata": {},
   "outputs": [
    {
     "name": "stdout",
     "output_type": "stream",
     "text": [
      "The option price is: 0.0\n",
      "Spot Price: 43046.8715\n",
      "Strike Price: 38500.0\n",
      "Implied Volatility: 0.8549\n",
      "Initial Variance (v0): 0.7308540099999999\n",
      "Risk-Free Rate: 0.01\n",
      "Maturity Date: February 4th, 2024\n",
      "Day Count: Actual/365 (Fixed) day counter\n",
      "Dividend Yield: 0.0\n",
      "Heston Parameters: kappa=2.0, theta=0.7308540099999999, sigma=0.5, rho=-0.3\n"
     ]
    }
   ],
   "source": [
    "\n",
    "# Extract relevant data for the Heston model application\n",
    "spot_price = btc_data_new['underlying_price'].iloc[0]  # Underlying BTC price\n",
    "strike_price = float(btc_data_new['Strike Price'].iloc[0])  # Ensure strike price is a float\n",
    "maturity_date = ql.Date(4, 2, 2024)  # Option expiration date\n",
    "risk_free_rate = 0.01  # Risk-free interest rate (assumed)\n",
    "dividend_yield = 0.0  # Dividend yield (assumed)\n",
    "implied_volatility = btc_data_new['mark_iv'].iloc[0] / 100  # Implied volatility from mark_iv\n",
    "\n",
    "# Check and adjust if necessary\n",
    "if implied_volatility <= 0:\n",
    "    implied_volatility = 0.50  # Use a typical value if the implied volatility is non-positive\n",
    "\n",
    "# Heston model parameters (example values, these can be tuned)\n",
    "v0 = implied_volatility**2  # Initial variance from implied volatility\n",
    "kappa = 2.0  # Mean reversion speed (adjusted)\n",
    "theta = v0  # Long-term variance set to initial variance\n",
    "sigma = 0.5  # Volatility of volatility (adjusted)\n",
    "rho = -0.3  # Correlation (adjusted)\n",
    "\n",
    "# Set up the Heston process\n",
    "day_count = ql.Actual365Fixed()\n",
    "calendar = ql.NullCalendar()\n",
    "spot_handle = ql.QuoteHandle(ql.SimpleQuote(spot_price))\n",
    "flat_ts = ql.YieldTermStructureHandle(ql.FlatForward(0, calendar, ql.QuoteHandle(ql.SimpleQuote(risk_free_rate)), day_count))\n",
    "dividend_ts = ql.YieldTermStructureHandle(ql.FlatForward(0, calendar, ql.QuoteHandle(ql.SimpleQuote(dividend_yield)), day_count))\n",
    "heston_process = ql.HestonProcess(flat_ts, dividend_ts, spot_handle, v0, kappa, theta, sigma, rho)\n",
    "\n",
    "# Set up the Heston model\n",
    "heston_model = ql.HestonModel(heston_process)\n",
    "engine = ql.AnalyticHestonEngine(heston_model)  # Using the semi-analytic engine for Heston model\n",
    "\n",
    "# Define the European call option\n",
    "payoff = ql.PlainVanillaPayoff(ql.Option.Call, strike_price)\n",
    "exercise = ql.EuropeanExercise(maturity_date)\n",
    "option = ql.VanillaOption(payoff, exercise)\n",
    "option.setPricingEngine(engine)\n",
    "\n",
    "# Calculate the option price\n",
    "option_price = option.NPV()\n",
    "print(\"The option price is:\", option_price)\n",
    "\n",
    "# Debugging information\n",
    "print(f\"Spot Price: {spot_price}\")\n",
    "print(f\"Strike Price: {strike_price}\")\n",
    "print(f\"Implied Volatility: {implied_volatility}\")\n",
    "print(f\"Initial Variance (v0): {v0}\")\n",
    "print(f\"Risk-Free Rate: {risk_free_rate}\")\n",
    "print(f\"Maturity Date: {maturity_date}\")\n",
    "print(f\"Day Count: {day_count}\")\n",
    "print(f\"Dividend Yield: {dividend_yield}\")\n",
    "print(f\"Heston Parameters: kappa={kappa}, theta={theta}, sigma={sigma}, rho={rho}\")"
   ]
  },
  {
   "cell_type": "code",
   "execution_count": null,
   "metadata": {},
   "outputs": [],
   "source": [
    "import pandas as pd\n",
    "import QuantLib as ql\n",
    "\n",
    "# Load the BTC options data\n",
    "btc_data_new = df  # Replace with the actual path"
   ]
  },
  {
   "cell_type": "code",
   "execution_count": null,
   "metadata": {},
   "outputs": [],
   "source": []
  },
  {
   "cell_type": "code",
   "execution_count": null,
   "metadata": {},
   "outputs": [],
   "source": [
    "The option price is: 0.0"
   ]
  },
  {
   "cell_type": "code",
   "execution_count": 5,
   "metadata": {},
   "outputs": [
    {
     "name": "stdout",
     "output_type": "stream",
     "text": [
      "The price of the European call option is: 0.0\n"
     ]
    }
   ],
   "source": [
    "import QuantLib as ql\n",
    "import pandas as pd\n",
    "\n",
    "# Load the BTC options data\n",
    "btc_data_new = df\n",
    "\n",
    "# Extract relevant data from the CSV\n",
    "spot_price = float(btc_data_new['underlying_price'].iloc[0])  # Ensure the spot price is a float\n",
    "strike_price = float(btc_data_new['Strike Price'].iloc[0])    # Ensure the strike price is a float\n",
    "maturity_date_str = btc_data_new['Expiration Date'].iloc[0]\n",
    "\n",
    "# Convert expiration date string to QuantLib Date object\n",
    "expiration_date_parts = maturity_date_str.split('FEB')\n",
    "expiration_day = int(expiration_date_parts[0])\n",
    "expiration_month = 2  # Assuming February for 'FEB'\n",
    "expiration_year = 2024  # Assuming the year 2024 for demonstration\n",
    "maturity_date = ql.Date(expiration_day, expiration_month, expiration_year)\n",
    "\n",
    "# Extract risk-free rate and convert to decimal\n",
    "risk_free_rate = float(btc_data_new['interest_rate'].iloc[0]) / 100\n",
    "dividend_yield = 0.0  # Assuming no dividend yield\n",
    "\n",
    "# Heston model parameters (assuming some typical values for demonstration)\n",
    "v0 = 0.04       # Initial variance\n",
    "kappa = 1.0     # Mean reversion speed\n",
    "theta = 0.04    # Long-term variance\n",
    "sigma = 0.2     # Volatility of volatility\n",
    "rho = -0.5      # Correlation\n",
    "\n",
    "# Set up the Heston process\n",
    "day_count = ql.Actual365Fixed()\n",
    "calendar = ql.NullCalendar()\n",
    "spot_handle = ql.QuoteHandle(ql.SimpleQuote(spot_price))\n",
    "flat_ts = ql.YieldTermStructureHandle(ql.FlatForward(0, calendar, ql.QuoteHandle(ql.SimpleQuote(risk_free_rate)), day_count))\n",
    "dividend_ts = ql.YieldTermStructureHandle(ql.FlatForward(0, calendar, ql.QuoteHandle(ql.SimpleQuote(dividend_yield)), day_count))\n",
    "heston_process = ql.HestonProcess(flat_ts, dividend_ts, spot_handle, v0, kappa, theta, sigma, rho)\n",
    "\n",
    "# Set up the Heston model\n",
    "heston_model = ql.HestonModel(heston_process)\n",
    "engine = ql.AnalyticHestonEngine(heston_model)\n",
    "\n",
    "# Define the European call option\n",
    "payoff = ql.PlainVanillaPayoff(ql.Option.Call, strike_price)\n",
    "exercise = ql.EuropeanExercise(maturity_date)\n",
    "option = ql.VanillaOption(payoff, exercise)\n",
    "option.setPricingEngine(engine)\n",
    "\n",
    "# Calculate the option price\n",
    "option_price = option.NPV()\n",
    "print(f\"The price of the European call option is: {option_price}\")\n"
   ]
  }
 ],
 "metadata": {
  "kernelspec": {
   "display_name": "Python 3",
   "language": "python",
   "name": "python3"
  },
  "language_info": {
   "codemirror_mode": {
    "name": "ipython",
    "version": 3
   },
   "file_extension": ".py",
   "mimetype": "text/x-python",
   "name": "python",
   "nbconvert_exporter": "python",
   "pygments_lexer": "ipython3",
   "version": "3.12.3"
  }
 },
 "nbformat": 4,
 "nbformat_minor": 2
}
