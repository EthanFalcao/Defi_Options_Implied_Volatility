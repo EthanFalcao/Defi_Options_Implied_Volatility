{
 "cells": [
  {
   "cell_type": "markdown",
   "metadata": {},
   "source": [
    "## Deribit API Request  - For BTC and ETH Options Data\n",
    "#### ALL Options data "
   ]
  },
  {
   "cell_type": "raw",
   "metadata": {
    "vscode": {
     "languageId": "raw"
    }
   },
   "source": [
    "import json\n",
    "import requests\n",
    "from tqdm import tqdm\n",
    "import pandas as pd\n",
    "import concurrent.futures\n",
    "\n",
    "\n",
    "def get_option_name_and_settlement(coin):\n",
    "    \"\"\"\n",
    "    :param coin: crypto-currency coin name ('BTC', 'ETH')\n",
    "    :return: 2 lists:\n",
    "                        1.  list of traded options for the selected coin;\n",
    "                        2.  list of settlement period for the selected coin.\n",
    "    \"\"\"\n",
    "    # requests public API\n",
    "    r = requests.get(\"https://test.deribit.com/api/v2/public/get_instruments?currency=\" + coin + \"&kind=option\")\n",
    "    result = json.loads(r.text)\n",
    "\n",
    "    # get option name\n",
    "    name = pd.json_normalize(result['result'])['instrument_name']\n",
    "    name = list(name)\n",
    "\n",
    "    # get option settlement period\n",
    "    settlement_period = pd.json_normalize(result['result'])['settlement_period']\n",
    "    settlement_period = list(settlement_period)\n",
    "\n",
    "    return name, settlement_period\n",
    "\n",
    "\n",
    "def fetch_option_data(coin_name, settlement_period):\n",
    "    \"\"\"\n",
    "    Fetches option data for a given coin name and settlement period\n",
    "    \"\"\"\n",
    "    r = requests.get('https://test.deribit.com/api/v2/public/get_order_book?instrument_name=' + coin_name)\n",
    "    result = json.loads(r.text)\n",
    "    df = pd.json_normalize(result['result'])\n",
    "    df['settlement_period'] = settlement_period\n",
    "    return df\n",
    "\n",
    "\n",
    "def get_option_data(coin):\n",
    "    \"\"\"\n",
    "    :param coin: crypto-currency coin name ('BTC', 'ETH')\n",
    "    :return: pandas data frame with all option data for a given coin\n",
    "    \"\"\"\n",
    "\n",
    "    # get option name and settlement\n",
    "    coin_name, settlement_period = get_option_name_and_settlement(coin)\n",
    "\n",
    "    # initialize progress bar\n",
    "    pbar = tqdm(total=len(coin_name))\n",
    "\n",
    "    # parallelize the fetching of data using ThreadPoolExecutor\n",
    "    coin_df = []\n",
    "    with concurrent.futures.ThreadPoolExecutor() as executor:\n",
    "        futures = [executor.submit(fetch_option_data, coin_name[i], settlement_period[i]) for i in range(len(coin_name))]\n",
    "\n",
    "        for future in concurrent.futures.as_completed(futures):\n",
    "            coin_df.append(future.result())\n",
    "            pbar.update(1)\n",
    "\n",
    "    # finalize data frame\n",
    "    coin_df = pd.concat(coin_df)\n",
    "\n",
    "    # remove useless columns from coin_df\n",
    "    columns = ['state', 'estimated_delivery_price']\n",
    "    coin_df.drop(columns, inplace=True, axis=1)\n",
    "\n",
    "    # close the progress bar\n",
    "    pbar.close()\n",
    "\n",
    "    return coin_df\n",
    "\n",
    "\n",
    "# Call the optimized function\n",
    "btc_data = get_option_data('BTC')\n"
   ]
  },
  {
   "cell_type": "markdown",
   "metadata": {},
   "source": [
    "### Specfic Settlement Period ( Day, Week, Month) "
   ]
  },
  {
   "cell_type": "code",
   "execution_count": null,
   "metadata": {},
   "outputs": [],
   "source": [
    "import pandas as pd\n",
    "import json\n",
    "import requests\n",
    "import re\n",
    "from datetime import datetime\n",
    "from tqdm import tqdm\n",
    "import concurrent.futures\n",
    "import time \n",
    "\n",
    "# Functions\n",
    "def get_option_name_and_settlement(coin):\n",
    "    \"\"\"\n",
    "    :param coin: crypto-currency coin name ('BTC', 'ETH')\n",
    "    :return: 2 lists:\n",
    "                        1. list of traded options for the selected coin;\n",
    "                        2. list of settlement period for the selected coin.\n",
    "    \"\"\"\n",
    "    r = requests.get(\"https://test.deribit.com/api/v2/public/get_instruments?currency=\" + coin + \"&kind=option\")\n",
    "    result = json.loads(r.text)\n",
    "    # Get option name\n",
    "    name = pd.json_normalize(result['result'])['instrument_name']\n",
    "    name = list(name)\n",
    "\n",
    "    # Get option settlement period\n",
    "    settlement_period = pd.json_normalize(result['result'])['settlement_period']\n",
    "    settlement_period = list(settlement_period)\n",
    "\n",
    "    return name, settlement_period \n",
    "\n",
    "def fetch_option_data(option_name):\n",
    "    \"\"\"Fetch the option data for a given option name with a small delay to avoid rate limiting.\"\"\"\n",
    "    time.sleep(0.1)  # Add a short delay to avoid hitting rate limits\n",
    "    r = requests.get(f'https://test.deribit.com/api/v2/public/get_order_book?instrument_name={option_name}')\n",
    "    result = json.loads(r.text)\n",
    "    return pd.json_normalize(result['result'])\n",
    "\n",
    "\n",
    "def extract_details(instrument_name, coin):\n",
    "    \"\"\"\n",
    "    Extract expiration date, strike price, and option type (call or put) from instrument name.\n",
    "    Adjusts to include selected coin (e.g., 'BTC' or 'ETH').\n",
    "    \"\"\"\n",
    "    match = re.match(fr\"{coin}-(\\d+[A-Z]{{3}}\\d+)-(\\d+)-([CP])\", instrument_name)\n",
    "    if match:\n",
    "        expiration_date = match.group(1)\n",
    "        strike_price = match.group(2)\n",
    "        option_type = 'Call' if match.group(3) == 'C' else 'Put'\n",
    "        return expiration_date, strike_price, option_type\n",
    "    return None, None, None\n",
    "\n",
    "\n",
    "\n",
    "def get_option_data(coin, settlement_per):\n",
    "    \"\"\"\n",
    "    :param coin: crypto-currency coin name ('BTC', 'ETH')\n",
    "    :return: pandas DataFrame with all option data for a given coin, filtered for options with specified settlement.\n",
    "    \"\"\"\n",
    "    # Get option name and settlement\n",
    "    coin_name, settlement_period = get_option_name_and_settlement(coin)\n",
    "\n",
    "    # Filter options that have the specified settlement period\n",
    "    coin_name_filtered = [coin_name[i] for i in range(len(coin_name)) if settlement_period[i] == settlement_per]\n",
    "\n",
    "    # Initialize progress bar\n",
    "    pbar = tqdm(total=len(coin_name_filtered))\n",
    "\n",
    "    # Fetch data concurrently using ThreadPoolExecutor\n",
    "    with concurrent.futures.ThreadPoolExecutor() as executor:\n",
    "        future_to_option = {executor.submit(fetch_option_data, name): name for name in coin_name_filtered}\n",
    "        coin_df = []\n",
    "        \n",
    "        for future in concurrent.futures.as_completed(future_to_option):\n",
    "            try:\n",
    "                data = future.result()\n",
    "                data['settlement_period'] = settlement_per\n",
    "                coin_df.append(data)\n",
    "            except Exception as exc:\n",
    "                print(f'Error fetching data: {exc}')\n",
    "            pbar.update(1)\n",
    "\n",
    "    # Finalize DataFrame\n",
    "    if len(coin_df) > 0:\n",
    "        coin_df = pd.concat(coin_df)\n",
    "\n",
    "    # Remove unnecessary columns\n",
    "    columns = ['state', 'estimated_delivery_price']\n",
    "    if not coin_df.empty:\n",
    "        coin_df.drop(columns, inplace=True, axis=1)\n",
    "\n",
    "    #coin_df['Expiration Date'], coin_df['Strike Price'] = zip(*coin_df['instrument_name'].apply(lambda x: extract_details(x, coin)))\n",
    "\n",
    "    coin_df['Expiration Date'], coin_df['Strike Price'], coin_df['Option Type'] = zip(*coin_df['instrument_name'].apply(lambda x: extract_details(x, coin)))\n",
    "    \n",
    "    today = datetime.today()\n",
    "    coin_df['Time to Expiration'] = coin_df['Expiration Date'].apply(lambda x: (datetime.strptime(x, '%d%b%y') - today).days / 365 if x else None)\n",
    "\n",
    "    coin_df.to_csv('data/data.csv', index=False)\n",
    " \n",
    "    pbar.close()\n",
    "\n",
    "    return coin_df\n"
   ]
  },
  {
   "cell_type": "code",
   "execution_count": 18,
   "metadata": {},
   "outputs": [
    {
     "name": "stderr",
     "output_type": "stream",
     "text": [
      " 20%|██        | 33/164 [00:21<00:34,  3.80it/s]"
     ]
    },
    {
     "name": "stdout",
     "output_type": "stream",
     "text": [
      "Error fetching data: HTTPSConnectionPool(host='test.deribit.com', port=443): Max retries exceeded with url: /api/v2/public/get_order_book?instrument_name=ETH-1NOV24-2400-P (Caused by ConnectTimeoutError(<urllib3.connection.HTTPSConnection object at 0x000002635DB0F0E0>, 'Connection to test.deribit.com timed out. (connect timeout=None)'))\n",
      "Error fetching data: HTTPSConnectionPool(host='test.deribit.com', port=443): Max retries exceeded with url: /api/v2/public/get_order_book?instrument_name=ETH-1NOV24-2100-C (Caused by ConnectTimeoutError(<urllib3.connection.HTTPSConnection object at 0x000002635DB0DD90>, 'Connection to test.deribit.com timed out. (connect timeout=None)'))\n",
      "Error fetching data: HTTPSConnectionPool(host='test.deribit.com', port=443): Max retries exceeded with url: /api/v2/public/get_order_book?instrument_name=ETH-1NOV24-2600-P (Caused by ConnectTimeoutError(<urllib3.connection.HTTPSConnection object at 0x000002635DB0E5D0>, 'Connection to test.deribit.com timed out. (connect timeout=None)'))\n",
      "Error fetching data: HTTPSConnectionPool(host='test.deribit.com', port=443): Max retries exceeded with url: /api/v2/public/get_order_book?instrument_name=ETH-1NOV24-1900-C (Caused by ConnectTimeoutError(<urllib3.connection.HTTPSConnection object at 0x000002635DBA57F0>, 'Connection to test.deribit.com timed out. (connect timeout=None)'))\n",
      "Error fetching data: HTTPSConnectionPool(host='test.deribit.com', port=443): Max retries exceeded with url: /api/v2/public/get_order_book?instrument_name=ETH-1NOV24-2400-C (Caused by ConnectTimeoutError(<urllib3.connection.HTTPSConnection object at 0x000002635DB0ED80>, 'Connection to test.deribit.com timed out. (connect timeout=None)'))\n",
      "Error fetching data: HTTPSConnectionPool(host='test.deribit.com', port=443): Max retries exceeded with url: /api/v2/public/get_order_book?instrument_name=ETH-1NOV24-2500-P (Caused by ConnectTimeoutError(<urllib3.connection.HTTPSConnection object at 0x000002635DB0C290>, 'Connection to test.deribit.com timed out. (connect timeout=None)'))\n",
      "Error fetching data: HTTPSConnectionPool(host='test.deribit.com', port=443): Max retries exceeded with url: /api/v2/public/get_order_book?instrument_name=ETH-1NOV24-2300-P (Caused by ConnectTimeoutError(<urllib3.connection.HTTPSConnection object at 0x000002635DB0C710>, 'Connection to test.deribit.com timed out. (connect timeout=None)'))\n",
      "Error fetching data: HTTPSConnectionPool(host='test.deribit.com', port=443): Max retries exceeded with url: /api/v2/public/get_order_book?instrument_name=ETH-1NOV24-2600-C (Caused by ConnectTimeoutError(<urllib3.connection.HTTPSConnection object at 0x000002635DB0F2C0>, 'Connection to test.deribit.com timed out. (connect timeout=None)'))\n",
      "Error fetching data: HTTPSConnectionPool(host='test.deribit.com', port=443): Max retries exceeded with url: /api/v2/public/get_order_book?instrument_name=ETH-1NOV24-2650-C (Caused by ConnectTimeoutError(<urllib3.connection.HTTPSConnection object at 0x000002635B1EFB60>, 'Connection to test.deribit.com timed out. (connect timeout=None)'))\n",
      "Error fetching data: HTTPSConnectionPool(host='test.deribit.com', port=443): Max retries exceeded with url: /api/v2/public/get_order_book?instrument_name=ETH-1NOV24-2000-P (Caused by ConnectTimeoutError(<urllib3.connection.HTTPSConnection object at 0x000002635DB0E120>, 'Connection to test.deribit.com timed out. (connect timeout=None)'))\n",
      "Error fetching data: HTTPSConnectionPool(host='test.deribit.com', port=443): Max retries exceeded with url: /api/v2/public/get_order_book?instrument_name=ETH-1NOV24-1900-P (Caused by ConnectTimeoutError(<urllib3.connection.HTTPSConnection object at 0x000002635DB0D9D0>, 'Connection to test.deribit.com timed out. (connect timeout=None)'))\n",
      "Error fetching data: HTTPSConnectionPool(host='test.deribit.com', port=443): Max retries exceeded with url: /api/v2/public/get_order_book?instrument_name=ETH-1NOV24-2100-P (Caused by ConnectTimeoutError(<urllib3.connection.HTTPSConnection object at 0x000002635DB0D0D0>, 'Connection to test.deribit.com timed out. (connect timeout=None)'))\n",
      "Error fetching data: HTTPSConnectionPool(host='test.deribit.com', port=443): Max retries exceeded with url: /api/v2/public/get_order_book?instrument_name=ETH-1NOV24-2500-C (Caused by ConnectTimeoutError(<urllib3.connection.HTTPSConnection object at 0x000002635DB0C4A0>, 'Connection to test.deribit.com timed out. (connect timeout=None)'))\n",
      "Error fetching data: HTTPSConnectionPool(host='test.deribit.com', port=443): Max retries exceeded with url: /api/v2/public/get_order_book?instrument_name=ETH-1NOV24-1700-P (Caused by ConnectTimeoutError(<urllib3.connection.HTTPSConnection object at 0x000002635DB0FB60>, 'Connection to test.deribit.com timed out. (connect timeout=None)'))\n",
      "Error fetching data: HTTPSConnectionPool(host='test.deribit.com', port=443): Max retries exceeded with url: /api/v2/public/get_order_book?instrument_name=ETH-1NOV24-2200-C (Caused by ConnectTimeoutError(<urllib3.connection.HTTPSConnection object at 0x000002635DB0EC30>, 'Connection to test.deribit.com timed out. (connect timeout=None)'))\n",
      "Error fetching data: HTTPSConnectionPool(host='test.deribit.com', port=443): Max retries exceeded with url: /api/v2/public/get_order_book?instrument_name=ETH-1NOV24-1700-C (Caused by ConnectTimeoutError(<urllib3.connection.HTTPSConnection object at 0x000002635DBA4350>, 'Connection to test.deribit.com timed out. (connect timeout=None)'))\n",
      "Error fetching data: HTTPSConnectionPool(host='test.deribit.com', port=443): Max retries exceeded with url: /api/v2/public/get_order_book?instrument_name=ETH-1NOV24-2300-C (Caused by ConnectTimeoutError(<urllib3.connection.HTTPSConnection object at 0x000002635DB0F470>, 'Connection to test.deribit.com timed out. (connect timeout=None)'))\n",
      "Error fetching data: HTTPSConnectionPool(host='test.deribit.com', port=443): Max retries exceeded with url: /api/v2/public/get_order_book?instrument_name=ETH-1NOV24-2700-P (Caused by ConnectTimeoutError(<urllib3.connection.HTTPSConnection object at 0x000002635C58C860>, 'Connection to test.deribit.com timed out. (connect timeout=None)'))\n"
     ]
    },
    {
     "name": "stderr",
     "output_type": "stream",
     "text": [
      " 33%|███▎      | 54/164 [00:22<00:06, 15.81it/s]"
     ]
    },
    {
     "name": "stdout",
     "output_type": "stream",
     "text": [
      "Error fetching data: HTTPSConnectionPool(host='test.deribit.com', port=443): Max retries exceeded with url: /api/v2/public/get_order_book?instrument_name=ETH-1NOV24-2800-P (Caused by ConnectTimeoutError(<urllib3.connection.HTTPSConnection object at 0x000002635DCD6F60>, 'Connection to test.deribit.com timed out. (connect timeout=None)'))\n"
     ]
    },
    {
     "name": "stderr",
     "output_type": "stream",
     "text": [
      " 96%|█████████▋| 158/164 [00:35<00:00, 12.51it/s]C:\\Users\\Ethan Vaz Falcao\\AppData\\Local\\Temp\\ipykernel_19096\\1825986759.py:83: FutureWarning: The behavior of DataFrame concatenation with empty or all-NA entries is deprecated. In a future version, this will no longer exclude empty or all-NA columns when determining the result dtypes. To retain the old behavior, exclude the relevant entries before the concat operation.\n",
      "  coin_df = pd.concat(coin_df)\n",
      "100%|██████████| 164/164 [00:35<00:00,  4.56it/s]\n",
      "C:\\Users\\Ethan Vaz Falcao\\AppData\\Local\\Temp\\ipykernel_19096\\734503506.py:6: SettingWithCopyWarning: \n",
      "A value is trying to be set on a copy of a slice from a DataFrame.\n",
      "Try using .loc[row_indexer,col_indexer] = value instead\n",
      "\n",
      "See the caveats in the documentation: https://pandas.pydata.org/pandas-docs/stable/user_guide/indexing.html#returning-a-view-versus-a-copy\n",
      "  data['Strike Price'] = pd.to_numeric(data['Strike Price'], errors='coerce').astype('float64')\n"
     ]
    }
   ],
   "source": [
    "data = get_option_data('ETH','week')\n",
    "data=data[[\"instrument_name\", \"Option Type\", \n",
    "           'mark_price', 'underlying_price', 'mark_iv', \n",
    "           'greeks.vega', 'Expiration Date', 'Strike Price', 'Time to Expiration']]\n",
    "\n",
    "data['Strike Price'] = pd.to_numeric(data['Strike Price'], errors='coerce').astype('float64')"
   ]
  },
  {
   "cell_type": "code",
   "execution_count": 19,
   "metadata": {},
   "outputs": [
    {
     "data": {
      "text/plain": [
       "instrument_name       0\n",
       "Option Type           0\n",
       "mark_price            0\n",
       "underlying_price      0\n",
       "mark_iv               0\n",
       "greeks.vega           0\n",
       "Expiration Date       0\n",
       "Strike Price          0\n",
       "Time to Expiration    0\n",
       "dtype: int64"
      ]
     },
     "execution_count": 19,
     "metadata": {},
     "output_type": "execute_result"
    }
   ],
   "source": [
    "data.isnull().sum()"
   ]
  },
  {
   "cell_type": "code",
   "execution_count": 15,
   "metadata": {},
   "outputs": [
    {
     "name": "stdout",
     "output_type": "stream",
     "text": [
      "<class 'pandas.core.frame.DataFrame'>\n",
      "Index: 145 entries, 0 to 0\n",
      "Data columns (total 9 columns):\n",
      " #   Column              Non-Null Count  Dtype  \n",
      "---  ------              --------------  -----  \n",
      " 0   instrument_name     145 non-null    object \n",
      " 1   Option Type         145 non-null    object \n",
      " 2   mark_price          145 non-null    float64\n",
      " 3   underlying_price    145 non-null    float64\n",
      " 4   mark_iv             145 non-null    float64\n",
      " 5   greeks.vega         145 non-null    float64\n",
      " 6   Expiration Date     145 non-null    object \n",
      " 7   Strike Price        145 non-null    float64\n",
      " 8   Time to Expiration  145 non-null    float64\n",
      "dtypes: float64(6), object(3)\n",
      "memory usage: 11.3+ KB\n"
     ]
    }
   ],
   "source": [
    "data.info()"
   ]
  },
  {
   "cell_type": "code",
   "execution_count": 16,
   "metadata": {},
   "outputs": [],
   "source": [
    "data.to_csv('data/data.csv', index=False)"
   ]
  }
 ],
 "metadata": {
  "kernelspec": {
   "display_name": "Python 3",
   "language": "python",
   "name": "python3"
  },
  "language_info": {
   "codemirror_mode": {
    "name": "ipython",
    "version": 3
   },
   "file_extension": ".py",
   "mimetype": "text/x-python",
   "name": "python",
   "nbconvert_exporter": "python",
   "pygments_lexer": "ipython3",
   "version": "3.9.13"
  }
 },
 "nbformat": 4,
 "nbformat_minor": 2
}
