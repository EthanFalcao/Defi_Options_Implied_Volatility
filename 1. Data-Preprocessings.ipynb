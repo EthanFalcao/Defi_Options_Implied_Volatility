{
 "cells": [
  {
   "cell_type": "markdown",
   "metadata": {},
   "source": [
    "## Deribit API Request  - For BTC and ETH Options Data\n",
    "#### ALL Options data "
   ]
  },
  {
   "cell_type": "markdown",
   "metadata": {},
   "source": [
    "### Specfic Settlement Period ( Day, Week, Month) "
   ]
  },
  {
   "cell_type": "code",
   "execution_count": 13,
   "metadata": {},
   "outputs": [],
   "source": [
    "import pandas as pd\n",
    "import json\n",
    "import requests\n",
    "import re\n",
    "from datetime import datetime\n",
    "from tqdm import tqdm\n",
    "import concurrent.futures\n",
    "import time \n",
    "\n",
    "# Functions\n",
    "def get_option_name_and_settlement(coin):\n",
    "    \"\"\"\n",
    "    :param coin: crypto-currency coin name ('BTC', 'ETH')\n",
    "    :return: 2 lists:\n",
    "                        1. list of traded options for the selected coin;\n",
    "                        2. list of settlement period for the selected coin.\n",
    "    \"\"\"\n",
    "    r = requests.get(\"https://test.deribit.com/api/v2/public/get_instruments?currency=\" + coin + \"&kind=option\")\n",
    "    result = json.loads(r.text)\n",
    "    # Get option name\n",
    "    name = pd.json_normalize(result['result'])['instrument_name']\n",
    "    name = list(name)\n",
    "\n",
    "    # Get option settlement period\n",
    "    settlement_period = pd.json_normalize(result['result'])['settlement_period']\n",
    "    settlement_period = list(settlement_period)\n",
    "\n",
    "    return name, settlement_period \n",
    "\n",
    "def extract_details(instrument_name, coin):\n",
    "    \"\"\"\n",
    "    Extract expiration date, strike price, and option type (call or put) from instrument name.\n",
    "    Adjusts to include selected coin (e.g., 'BTC' or 'ETH').\n",
    "    \"\"\"\n",
    "    match = re.match(fr\"{coin}-(\\d+[A-Z]{{3}}\\d+)-(\\d+)-([CP])\", instrument_name)\n",
    "    if match:\n",
    "        expiration_date = match.group(1)\n",
    "        strike_price = match.group(2)\n",
    "        option_type = 'Call' if match.group(3) == 'C' else 'Put'\n",
    "        return expiration_date, strike_price, option_type\n",
    "    return None, None, None\n",
    "\n",
    "def fetch_option_data(option_name):\n",
    "    \"\"\"Fetch the option data for a given option name with a small delay to avoid rate limiting, and select only specific columns.\"\"\"\n",
    "    time.sleep(0.1)  # Add a short delay to avoid hitting rate limits\n",
    "    r = requests.get(f'https://test.deribit.com/api/v2/public/get_order_book?instrument_name={option_name}')\n",
    "    result = json.loads(r.text)\n",
    "    \n",
    "    # Normalize the JSON data and filter for required columns\n",
    "    df = pd.json_normalize(result['result'])\n",
    "    selected_columns = [\"instrument_name\", \"mark_price\", \"underlying_price\", \"mark_iv\", \"greeks.vega\"]\n",
    "    return df[selected_columns]\n",
    "\n",
    "def get_option_data(coin, settlement_per):\n",
    "    # Get option name and settlement\n",
    "    coin_name, settlement_period = get_option_name_and_settlement(coin)\n",
    "    # Filter options that have the specified settlement period\n",
    "    coin_name_filtered = [coin_name[i] for i in range(len(coin_name)) if settlement_period[i] == settlement_per]\n",
    "    # Initialize progress bar\n",
    "    pbar = tqdm(total=len(coin_name_filtered))\n",
    "\n",
    "    # Fetch data concurrently using ThreadPoolExecutor\n",
    "    with concurrent.futures.ThreadPoolExecutor() as executor:\n",
    "        future_to_option = {executor.submit(fetch_option_data, name): name for name in coin_name_filtered}\n",
    "        coin_df = []\n",
    "        for future in concurrent.futures.as_completed(future_to_option):\n",
    "            try:\n",
    "                data = future.result()\n",
    "                data['settlement_period'] = settlement_per\n",
    "                coin_df.append(data)\n",
    "            except Exception as exc:\n",
    "                print(f'Error fetching data: {exc}')\n",
    "            pbar.update(1)\n",
    "\n",
    "    # Finalize DataFrame\n",
    "    if len(coin_df) > 0:\n",
    "        coin_df = pd.concat(coin_df)\n",
    "    # Extract expiration date, strike price, and option type\n",
    "    coin_df['Expiration Date'], coin_df['Strike Price'], coin_df['Option Type'] = zip(*coin_df['instrument_name'].apply(lambda x: extract_details(x, coin)))\n",
    "    # Calculate time to expiration\n",
    "    today = datetime.today()\n",
    "    coin_df['Time to Expiration'] = coin_df['Expiration Date'].apply(lambda x: (datetime.strptime(x, '%d%b%y') - today).days / 365 if x else None)\n",
    "    # Select the final columns\n",
    "    final_columns = [\"instrument_name\", \"Option Type\", 'mark_price', 'underlying_price', 'mark_iv', 'greeks.vega', 'Expiration Date', 'Strike Price', 'Time to Expiration']\n",
    "    coin_df = coin_df[final_columns]\n",
    "    coin_df.to_csv('data/data.csv', index=False)\n",
    "    pbar.close()\n",
    "    return coin_df\n"
   ]
  },
  {
   "cell_type": "code",
   "execution_count": 14,
   "metadata": {},
   "outputs": [
    {
     "name": "stderr",
     "output_type": "stream",
     "text": [
      " 63%|██████▎   | 402/634 [00:52<00:20, 11.23it/s]"
     ]
    },
    {
     "name": "stdout",
     "output_type": "stream",
     "text": [
      "Error fetching data: 'result'\n"
     ]
    },
    {
     "name": "stderr",
     "output_type": "stream",
     "text": [
      "100%|██████████| 634/634 [01:21<00:00,  7.81it/s]\n"
     ]
    }
   ],
   "source": [
    "data = get_option_data('BTC','month')\n",
    "\n",
    "data['Strike Price'] = pd.to_numeric(data['Strike Price'], errors='coerce').astype('float64')"
   ]
  },
  {
   "cell_type": "code",
   "execution_count": 19,
   "metadata": {},
   "outputs": [
    {
     "name": "stdout",
     "output_type": "stream",
     "text": [
      "<class 'pandas.core.frame.DataFrame'>\n",
      "Index: 633 entries, 0 to 0\n",
      "Data columns (total 9 columns):\n",
      " #   Column              Non-Null Count  Dtype  \n",
      "---  ------              --------------  -----  \n",
      " 0   instrument_name     633 non-null    object \n",
      " 1   Option Type         633 non-null    object \n",
      " 2   mark_price          633 non-null    float64\n",
      " 3   underlying_price    633 non-null    float64\n",
      " 4   mark_iv             633 non-null    float64\n",
      " 5   greeks.vega         633 non-null    float64\n",
      " 6   Expiration Date     633 non-null    object \n",
      " 7   Strike Price        633 non-null    float64\n",
      " 8   Time to Expiration  633 non-null    float64\n",
      "dtypes: float64(6), object(3)\n",
      "memory usage: 49.5+ KB\n"
     ]
    }
   ],
   "source": [
    "data.info()"
   ]
  },
  {
   "cell_type": "code",
   "execution_count": 20,
   "metadata": {},
   "outputs": [
    {
     "data": {
      "text/plain": [
       "instrument_name       0\n",
       "Option Type           0\n",
       "mark_price            0\n",
       "underlying_price      0\n",
       "mark_iv               0\n",
       "greeks.vega           0\n",
       "Expiration Date       0\n",
       "Strike Price          0\n",
       "Time to Expiration    0\n",
       "dtype: int64"
      ]
     },
     "execution_count": 20,
     "metadata": {},
     "output_type": "execute_result"
    }
   ],
   "source": [
    "data.isnull().sum()"
   ]
  },
  {
   "cell_type": "code",
   "execution_count": 17,
   "metadata": {},
   "outputs": [
    {
     "name": "stdout",
     "output_type": "stream",
     "text": [
      "<class 'pandas.core.frame.DataFrame'>\n",
      "Index: 633 entries, 0 to 0\n",
      "Data columns (total 9 columns):\n",
      " #   Column              Non-Null Count  Dtype  \n",
      "---  ------              --------------  -----  \n",
      " 0   instrument_name     633 non-null    object \n",
      " 1   Option Type         633 non-null    object \n",
      " 2   mark_price          633 non-null    float64\n",
      " 3   underlying_price    633 non-null    float64\n",
      " 4   mark_iv             633 non-null    float64\n",
      " 5   greeks.vega         633 non-null    float64\n",
      " 6   Expiration Date     633 non-null    object \n",
      " 7   Strike Price        633 non-null    float64\n",
      " 8   Time to Expiration  633 non-null    float64\n",
      "dtypes: float64(6), object(3)\n",
      "memory usage: 49.5+ KB\n"
     ]
    }
   ],
   "source": [
    "data.info()"
   ]
  },
  {
   "cell_type": "code",
   "execution_count": 18,
   "metadata": {},
   "outputs": [],
   "source": [
    "data.to_csv('data/data.csv', index=False)"
   ]
  }
 ],
 "metadata": {
  "kernelspec": {
   "display_name": "Python 3",
   "language": "python",
   "name": "python3"
  },
  "language_info": {
   "codemirror_mode": {
    "name": "ipython",
    "version": 3
   },
   "file_extension": ".py",
   "mimetype": "text/x-python",
   "name": "python",
   "nbconvert_exporter": "python",
   "pygments_lexer": "ipython3",
   "version": "3.9.13"
  }
 },
 "nbformat": 4,
 "nbformat_minor": 2
}
