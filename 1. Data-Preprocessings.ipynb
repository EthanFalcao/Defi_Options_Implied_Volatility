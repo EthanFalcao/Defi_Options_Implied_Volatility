{
 "cells": [
  {
   "cell_type": "markdown",
   "metadata": {},
   "source": [
    "## Deribit API Request  - For BTC and ETH Options Data\n",
    "#### ALL Options data "
   ]
  },
  {
   "cell_type": "raw",
   "metadata": {
    "vscode": {
     "languageId": "raw"
    }
   },
   "source": [
    "import json\n",
    "import requests\n",
    "from tqdm import tqdm\n",
    "import pandas as pd\n",
    "import concurrent.futures\n",
    "\n",
    "\n",
    "def get_option_name_and_settlement(coin):\n",
    "    \"\"\"\n",
    "    :param coin: crypto-currency coin name ('BTC', 'ETH')\n",
    "    :return: 2 lists:\n",
    "                        1.  list of traded options for the selected coin;\n",
    "                        2.  list of settlement period for the selected coin.\n",
    "    \"\"\"\n",
    "    # requests public API\n",
    "    r = requests.get(\"https://test.deribit.com/api/v2/public/get_instruments?currency=\" + coin + \"&kind=option\")\n",
    "    result = json.loads(r.text)\n",
    "\n",
    "    # get option name\n",
    "    name = pd.json_normalize(result['result'])['instrument_name']\n",
    "    name = list(name)\n",
    "\n",
    "    # get option settlement period\n",
    "    settlement_period = pd.json_normalize(result['result'])['settlement_period']\n",
    "    settlement_period = list(settlement_period)\n",
    "\n",
    "    return name, settlement_period\n",
    "\n",
    "\n",
    "def fetch_option_data(coin_name, settlement_period):\n",
    "    \"\"\"\n",
    "    Fetches option data for a given coin name and settlement period\n",
    "    \"\"\"\n",
    "    r = requests.get('https://test.deribit.com/api/v2/public/get_order_book?instrument_name=' + coin_name)\n",
    "    result = json.loads(r.text)\n",
    "    df = pd.json_normalize(result['result'])\n",
    "    df['settlement_period'] = settlement_period\n",
    "    return df\n",
    "\n",
    "\n",
    "def get_option_data(coin):\n",
    "    \"\"\"\n",
    "    :param coin: crypto-currency coin name ('BTC', 'ETH')\n",
    "    :return: pandas data frame with all option data for a given coin\n",
    "    \"\"\"\n",
    "\n",
    "    # get option name and settlement\n",
    "    coin_name, settlement_period = get_option_name_and_settlement(coin)\n",
    "\n",
    "    # initialize progress bar\n",
    "    pbar = tqdm(total=len(coin_name))\n",
    "\n",
    "    # parallelize the fetching of data using ThreadPoolExecutor\n",
    "    coin_df = []\n",
    "    with concurrent.futures.ThreadPoolExecutor() as executor:\n",
    "        futures = [executor.submit(fetch_option_data, coin_name[i], settlement_period[i]) for i in range(len(coin_name))]\n",
    "\n",
    "        for future in concurrent.futures.as_completed(futures):\n",
    "            coin_df.append(future.result())\n",
    "            pbar.update(1)\n",
    "\n",
    "    # finalize data frame\n",
    "    coin_df = pd.concat(coin_df)\n",
    "\n",
    "    # remove useless columns from coin_df\n",
    "    columns = ['state', 'estimated_delivery_price']\n",
    "    coin_df.drop(columns, inplace=True, axis=1)\n",
    "\n",
    "    # close the progress bar\n",
    "    pbar.close()\n",
    "\n",
    "    return coin_df\n",
    "\n",
    "\n",
    "# Call the optimized function\n",
    "btc_data = get_option_data('BTC')\n"
   ]
  },
  {
   "cell_type": "markdown",
   "metadata": {},
   "source": [
    "### Specfic Settlement Period ( Day, Week, Month) "
   ]
  },
  {
   "cell_type": "code",
   "execution_count": 1,
   "metadata": {},
   "outputs": [],
   "source": [
    "import pandas as pd\n",
    "import json\n",
    "import requests\n",
    "import re\n",
    "from datetime import datetime\n",
    "from tqdm import tqdm\n",
    "import concurrent.futures\n",
    "\n",
    "# Functions\n",
    "def get_option_name_and_settlement(coin):\n",
    "    \"\"\"\n",
    "    :param coin: crypto-currency coin name ('BTC', 'ETH')\n",
    "    :return: 2 lists:\n",
    "                        1. list of traded options for the selected coin;\n",
    "                        2. list of settlement period for the selected coin.\n",
    "    \"\"\"\n",
    "    r = requests.get(\"https://test.deribit.com/api/v2/public/get_instruments?currency=\" + coin + \"&kind=option\")\n",
    "    result = json.loads(r.text)\n",
    "    # Get option name\n",
    "    name = pd.json_normalize(result['result'])['instrument_name']\n",
    "    name = list(name)\n",
    "\n",
    "    # Get option settlement period\n",
    "    settlement_period = pd.json_normalize(result['result'])['settlement_period']\n",
    "    settlement_period = list(settlement_period)\n",
    "\n",
    "    return name, settlement_period\n",
    "\n",
    "def fetch_option_data(option_name):\n",
    "    \"\"\"Fetch the option data for a given option name.\"\"\"\n",
    "    r = requests.get(f'https://test.deribit.com/api/v2/public/get_order_book?instrument_name={option_name}')\n",
    "    result = json.loads(r.text)\n",
    "    return pd.json_normalize(result['result'])\n",
    "\n",
    "\n",
    "def extract_details(instrument_name, coin):\n",
    "    \"\"\"\n",
    "    Extract expiration date, strike price, and option type (call or put) from instrument name.\n",
    "    Adjusts to include selected coin (e.g., 'BTC' or 'ETH').\n",
    "    \"\"\"\n",
    "    match = re.match(fr\"{coin}-(\\d+[A-Z]{{3}}\\d+)-(\\d+)-([CP])\", instrument_name)\n",
    "    if match:\n",
    "        expiration_date = match.group(1)\n",
    "        strike_price = match.group(2)\n",
    "        option_type = 'Call' if match.group(3) == 'C' else 'Put'\n",
    "        return expiration_date, strike_price, option_type\n",
    "    return None, None, None\n",
    "\n",
    "\n",
    "\n",
    "def get_option_data(coin, settlement_per):\n",
    "    \"\"\"\n",
    "    :param coin: crypto-currency coin name ('BTC', 'ETH')\n",
    "    :return: pandas DataFrame with all option data for a given coin, filtered for options with specified settlement.\n",
    "    \"\"\"\n",
    "    # Get option name and settlement\n",
    "    coin_name, settlement_period = get_option_name_and_settlement(coin)\n",
    "\n",
    "    # Filter options that have the specified settlement period\n",
    "    coin_name_filtered = [coin_name[i] for i in range(len(coin_name)) if settlement_period[i] == settlement_per]\n",
    "\n",
    "    # Initialize progress bar\n",
    "    pbar = tqdm(total=len(coin_name_filtered))\n",
    "\n",
    "    # Fetch data concurrently using ThreadPoolExecutor\n",
    "    with concurrent.futures.ThreadPoolExecutor() as executor:\n",
    "        future_to_option = {executor.submit(fetch_option_data, name): name for name in coin_name_filtered}\n",
    "        coin_df = []\n",
    "        \n",
    "        for future in concurrent.futures.as_completed(future_to_option):\n",
    "            try:\n",
    "                data = future.result()\n",
    "                data['settlement_period'] = settlement_per\n",
    "                coin_df.append(data)\n",
    "            except Exception as exc:\n",
    "                print(f'Error fetching data: {exc}')\n",
    "            pbar.update(1)\n",
    "\n",
    "    # Finalize DataFrame\n",
    "    if len(coin_df) > 0:\n",
    "        coin_df = pd.concat(coin_df)\n",
    "\n",
    "    # Remove unnecessary columns\n",
    "    columns = ['state', 'estimated_delivery_price']\n",
    "    if not coin_df.empty:\n",
    "        coin_df.drop(columns, inplace=True, axis=1)\n",
    "\n",
    "    #coin_df['Expiration Date'], coin_df['Strike Price'] = zip(*coin_df['instrument_name'].apply(lambda x: extract_details(x, coin)))\n",
    "\n",
    "    coin_df['Expiration Date'], coin_df['Strike Price'], coin_df['Option Type'] = zip(*coin_df['instrument_name'].apply(lambda x: extract_details(x, coin)))\n",
    "    \n",
    "    today = datetime.today()\n",
    "    coin_df['Time to Expiration'] = coin_df['Expiration Date'].apply(lambda x: (datetime.strptime(x, '%d%b%y') - today).days / 365 if x else None)\n",
    "\n",
    "    coin_df.to_csv('data/data.csv', index=False)\n",
    " \n",
    "    pbar.close()\n",
    "\n",
    "    return coin_df\n"
   ]
  },
  {
   "cell_type": "code",
   "execution_count": 2,
   "metadata": {},
   "outputs": [
    {
     "name": "stderr",
     "output_type": "stream",
     "text": [
      " 24%|██▎       | 149/634 [00:02<00:07, 64.14it/s]"
     ]
    },
    {
     "name": "stdout",
     "output_type": "stream",
     "text": [
      "Error fetching data: 'result'\n",
      "Error fetching data: 'result'\n",
      "Error fetching data: 'result'\n",
      "Error fetching data: 'result'\n"
     ]
    },
    {
     "name": "stderr",
     "output_type": "stream",
     "text": [
      " 26%|██▋       | 168/634 [00:02<00:06, 71.47it/s]"
     ]
    },
    {
     "name": "stdout",
     "output_type": "stream",
     "text": [
      "Error fetching data: 'result'\n",
      "Error fetching data: 'result'\n",
      "Error fetching data: 'result'\n",
      "Error fetching data: 'result'\n",
      "Error fetching data: 'result'\n",
      "Error fetching data: 'result'\n",
      "Error fetching data: 'result'\n",
      "Error fetching data: 'result'\n",
      "Error fetching data: 'result'\n",
      "Error fetching data: 'result'\n",
      "Error fetching data: 'result'\n",
      "Error fetching data: 'result'\n",
      "Error fetching data: 'result'\n"
     ]
    },
    {
     "name": "stderr",
     "output_type": "stream",
     "text": [
      " 30%|██▉       | 189/634 [00:03<00:07, 62.73it/s]"
     ]
    },
    {
     "name": "stdout",
     "output_type": "stream",
     "text": [
      "Error fetching data: 'result'\n",
      "Error fetching data: 'result'\n",
      "Error fetching data: 'result'\n",
      "Error fetching data: 'result'\n",
      "Error fetching data: 'result'\n",
      "Error fetching data: 'result'\n",
      "Error fetching data: 'result'\n",
      "Error fetching data: 'result'\n",
      "Error fetching data: 'result'\n",
      "Error fetching data: 'result'\n",
      "Error fetching data: 'result'\n",
      "Error fetching data: 'result'\n",
      "Error fetching data: 'result'\n",
      "Error fetching data: 'result'\n"
     ]
    },
    {
     "name": "stderr",
     "output_type": "stream",
     "text": [
      " 33%|███▎      | 209/634 [00:03<00:06, 66.59it/s]"
     ]
    },
    {
     "name": "stdout",
     "output_type": "stream",
     "text": [
      "Error fetching data: 'result'\n",
      "Error fetching data: 'result'\n",
      "Error fetching data: 'result'\n",
      "Error fetching data: 'result'\n",
      "Error fetching data: 'result'\n",
      "Error fetching data: 'result'\n",
      "Error fetching data: 'result'\n",
      "Error fetching data: 'result'\n",
      "Error fetching data: 'result'\n",
      "Error fetching data: 'result'\n",
      "Error fetching data: 'result'\n",
      "Error fetching data: 'result'\n",
      "Error fetching data: 'result'\n",
      "Error fetching data: 'result'\n"
     ]
    },
    {
     "name": "stderr",
     "output_type": "stream",
     "text": [
      " 36%|███▌      | 229/634 [00:03<00:05, 69.45it/s]"
     ]
    },
    {
     "name": "stdout",
     "output_type": "stream",
     "text": [
      "Error fetching data: 'result'\n",
      "Error fetching data: 'result'\n",
      "Error fetching data: 'result'\n",
      "Error fetching data: 'result'\n",
      "Error fetching data: 'result'\n",
      "Error fetching data: 'result'\n",
      "Error fetching data: 'result'\n",
      "Error fetching data: 'result'\n",
      "Error fetching data: 'result'\n",
      "Error fetching data: 'result'\n",
      "Error fetching data: 'result'\n",
      "Error fetching data: 'result'\n",
      "Error fetching data: 'result'\n",
      "Error fetching data: 'result'\n"
     ]
    },
    {
     "name": "stderr",
     "output_type": "stream",
     "text": [
      " 39%|███▉      | 249/634 [00:04<00:05, 72.32it/s]"
     ]
    },
    {
     "name": "stdout",
     "output_type": "stream",
     "text": [
      "Error fetching data: 'result'\n",
      "Error fetching data: 'result'\n",
      "Error fetching data: 'result'\n",
      "Error fetching data: 'result'\n",
      "Error fetching data: 'result'\n",
      "Error fetching data: 'result'\n",
      "Error fetching data: 'result'\n",
      "Error fetching data: 'result'\n",
      "Error fetching data: 'result'\n",
      "Error fetching data: 'result'\n",
      "Error fetching data: 'result'\n",
      "Error fetching data: 'result'\n",
      "Error fetching data: 'result'\n",
      "Error fetching data: 'result'\n",
      "Error fetching data: 'result'\n"
     ]
    },
    {
     "name": "stderr",
     "output_type": "stream",
     "text": [
      " 43%|████▎     | 271/634 [00:04<00:04, 75.83it/s]"
     ]
    },
    {
     "name": "stdout",
     "output_type": "stream",
     "text": [
      "Error fetching data: 'result'\n",
      "Error fetching data: 'result'\n",
      "Error fetching data: 'result'\n",
      "Error fetching data: 'result'\n",
      "Error fetching data: 'result'\n",
      "Error fetching data: 'result'\n",
      "Error fetching data: 'result'\n",
      "Error fetching data: 'result'\n",
      "Error fetching data: 'result'\n",
      "Error fetching data: 'result'\n",
      "Error fetching data: 'result'\n",
      "Error fetching data: 'result'\n",
      "Error fetching data: 'result'\n",
      "Error fetching data: 'result'\n"
     ]
    },
    {
     "name": "stderr",
     "output_type": "stream",
     "text": [
      " 46%|████▌     | 291/634 [00:04<00:04, 78.07it/s]"
     ]
    },
    {
     "name": "stdout",
     "output_type": "stream",
     "text": [
      "Error fetching data: 'result'\n",
      "Error fetching data: 'result'\n",
      "Error fetching data: 'result'\n",
      "Error fetching data: 'result'\n",
      "Error fetching data: 'result'\n",
      "Error fetching data: 'result'\n",
      "Error fetching data: 'result'\n",
      "Error fetching data: 'result'\n",
      "Error fetching data: 'result'\n",
      "Error fetching data: 'result'\n",
      "Error fetching data: 'result'\n",
      "Error fetching data: 'result'\n",
      "Error fetching data: 'result'\n",
      "Error fetching data: 'result'\n"
     ]
    },
    {
     "name": "stderr",
     "output_type": "stream",
     "text": [
      " 49%|████▉     | 311/634 [00:05<00:04, 75.19it/s]"
     ]
    },
    {
     "name": "stdout",
     "output_type": "stream",
     "text": [
      "Error fetching data: 'result'\n",
      "Error fetching data: 'result'\n",
      "Error fetching data: 'result'\n",
      "Error fetching data: 'result'\n",
      "Error fetching data: 'result'\n",
      "Error fetching data: 'result'\n",
      "Error fetching data: 'result'\n",
      "Error fetching data: 'result'\n",
      "Error fetching data: 'result'\n",
      "Error fetching data: 'result'\n",
      "Error fetching data: 'result'\n",
      "Error fetching data: 'result'\n",
      "Error fetching data: 'result'\n",
      "Error fetching data: 'result'\n",
      "Error fetching data: 'result'\n"
     ]
    },
    {
     "name": "stderr",
     "output_type": "stream",
     "text": [
      " 52%|█████▏    | 332/634 [00:05<00:03, 75.51it/s]"
     ]
    },
    {
     "name": "stdout",
     "output_type": "stream",
     "text": [
      "Error fetching data: 'result'\n",
      "Error fetching data: 'result'\n",
      "Error fetching data: 'result'\n",
      "Error fetching data: 'result'\n",
      "Error fetching data: 'result'\n",
      "Error fetching data: 'result'\n",
      "Error fetching data: 'result'\n",
      "Error fetching data: 'result'\n",
      "Error fetching data: 'result'\n",
      "Error fetching data: 'result'\n",
      "Error fetching data: 'result'\n",
      "Error fetching data: 'result'\n",
      "Error fetching data: 'result'\n",
      "Error fetching data: 'result'\n"
     ]
    },
    {
     "name": "stderr",
     "output_type": "stream",
     "text": [
      " 54%|█████▍    | 341/634 [00:05<00:04, 65.67it/s]"
     ]
    },
    {
     "name": "stdout",
     "output_type": "stream",
     "text": [
      "Error fetching data: 'result'\n",
      "Error fetching data: 'result'\n",
      "Error fetching data: 'result'\n",
      "Error fetching data: 'result'\n",
      "Error fetching data: 'result'\n",
      "Error fetching data: 'result'\n",
      "Error fetching data: 'result'\n",
      "Error fetching data: 'result'\n",
      "Error fetching data: 'result'\n",
      "Error fetching data: 'result'\n",
      "Error fetching data: 'result'\n",
      "Error fetching data: 'result'\n",
      "Error fetching data: 'result'\n",
      "Error fetching data: 'result'\n",
      "Error fetching data: 'result'\n"
     ]
    },
    {
     "name": "stderr",
     "output_type": "stream",
     "text": [
      " 59%|█████▉    | 373/634 [00:06<00:04, 60.79it/s]"
     ]
    },
    {
     "name": "stdout",
     "output_type": "stream",
     "text": [
      "Error fetching data: 'result'\n",
      "Error fetching data: 'result'\n",
      "Error fetching data: 'result'\n",
      "Error fetching data: 'result'\n",
      "Error fetching data: 'result'\n",
      "Error fetching data: 'result'\n",
      "Error fetching data: 'result'\n",
      "Error fetching data: 'result'\n",
      "Error fetching data: 'result'\n",
      "Error fetching data: 'result'\n",
      "Error fetching data: 'result'\n",
      "Error fetching data: 'result'\n"
     ]
    },
    {
     "name": "stderr",
     "output_type": "stream",
     "text": [
      " 62%|██████▏   | 393/634 [00:06<00:03, 66.99it/s]"
     ]
    },
    {
     "name": "stdout",
     "output_type": "stream",
     "text": [
      "Error fetching data: 'result'\n",
      "Error fetching data: 'result'\n",
      "Error fetching data: 'result'\n",
      "Error fetching data: 'result'\n",
      "Error fetching data: 'result'\n",
      "Error fetching data: 'result'\n",
      "Error fetching data: 'result'\n",
      "Error fetching data: 'result'\n",
      "Error fetching data: 'result'\n",
      "Error fetching data: 'result'\n",
      "Error fetching data: 'result'\n",
      "Error fetching data: 'result'\n",
      "Error fetching data: 'result'\n",
      "Error fetching data: 'result'\n",
      "Error fetching data: 'result'\n"
     ]
    },
    {
     "name": "stderr",
     "output_type": "stream",
     "text": [
      " 65%|██████▌   | 413/634 [00:06<00:03, 69.36it/s]"
     ]
    },
    {
     "name": "stdout",
     "output_type": "stream",
     "text": [
      "Error fetching data: 'result'\n",
      "Error fetching data: 'result'\n",
      "Error fetching data: 'result'\n",
      "Error fetching data: 'result'\n",
      "Error fetching data: 'result'\n",
      "Error fetching data: 'result'\n",
      "Error fetching data: 'result'\n",
      "Error fetching data: 'result'\n",
      "Error fetching data: 'result'\n",
      "Error fetching data: 'result'\n",
      "Error fetching data: 'result'\n",
      "Error fetching data: 'result'\n",
      "Error fetching data: 'result'\n",
      "Error fetching data: 'result'\n"
     ]
    },
    {
     "name": "stderr",
     "output_type": "stream",
     "text": [
      " 68%|██████▊   | 433/634 [00:06<00:02, 72.50it/s]"
     ]
    },
    {
     "name": "stdout",
     "output_type": "stream",
     "text": [
      "Error fetching data: 'result'\n",
      "Error fetching data: 'result'\n",
      "Error fetching data: 'result'\n",
      "Error fetching data: 'result'\n",
      "Error fetching data: 'result'\n",
      "Error fetching data: 'result'\n",
      "Error fetching data: 'result'\n",
      "Error fetching data: 'result'\n",
      "Error fetching data: 'result'\n",
      "Error fetching data: 'result'\n",
      "Error fetching data: 'result'\n",
      "Error fetching data: 'result'\n",
      "Error fetching data: 'result'\n",
      "Error fetching data: 'result'\n"
     ]
    },
    {
     "name": "stderr",
     "output_type": "stream",
     "text": [
      " 72%|███████▏  | 454/634 [00:07<00:02, 69.35it/s]"
     ]
    },
    {
     "name": "stdout",
     "output_type": "stream",
     "text": [
      "Error fetching data: 'result'\n",
      "Error fetching data: 'result'\n",
      "Error fetching data: 'result'\n",
      "Error fetching data: 'result'\n",
      "Error fetching data: 'result'\n",
      "Error fetching data: 'result'\n",
      "Error fetching data: 'result'\n",
      "Error fetching data: 'result'\n",
      "Error fetching data: 'result'\n",
      "Error fetching data: 'result'\n",
      "Error fetching data: 'result'\n",
      "Error fetching data: 'result'\n",
      "Error fetching data: 'result'\n"
     ]
    },
    {
     "name": "stderr",
     "output_type": "stream",
     "text": [
      " 73%|███████▎  | 462/634 [00:07<00:02, 61.22it/s]"
     ]
    },
    {
     "name": "stdout",
     "output_type": "stream",
     "text": [
      "Error fetching data: 'result'\n",
      "Error fetching data: 'result'\n",
      "Error fetching data: 'result'\n",
      "Error fetching data: 'result'\n",
      "Error fetching data: 'result'\n",
      "Error fetching data: 'result'\n",
      "Error fetching data: 'result'\n",
      "Error fetching data: 'result'\n",
      "Error fetching data: 'result'\n",
      "Error fetching data: 'result'\n",
      "Error fetching data: 'result'\n",
      "Error fetching data: 'result'\n",
      "Error fetching data: 'result'\n",
      "Error fetching data: 'result'\n",
      "Error fetching data: 'result'\n"
     ]
    },
    {
     "name": "stderr",
     "output_type": "stream",
     "text": [
      " 76%|███████▌  | 482/634 [00:07<00:02, 54.96it/s]"
     ]
    },
    {
     "name": "stdout",
     "output_type": "stream",
     "text": [
      "Error fetching data: 'result'\n",
      "Error fetching data: 'result'\n",
      "Error fetching data: 'result'\n",
      "Error fetching data: 'result'\n",
      "Error fetching data: 'result'\n",
      "Error fetching data: 'result'\n",
      "Error fetching data: 'result'\n",
      "Error fetching data: 'result'\n",
      "Error fetching data: 'result'\n",
      "Error fetching data: 'result'\n",
      "Error fetching data: 'result'\n",
      "Error fetching data: 'result'\n",
      "Error fetching data: 'result'\n"
     ]
    },
    {
     "name": "stderr",
     "output_type": "stream",
     "text": [
      " 79%|███████▉  | 502/634 [00:08<00:02, 54.27it/s]"
     ]
    },
    {
     "name": "stdout",
     "output_type": "stream",
     "text": [
      "Error fetching data: 'result'\n",
      "Error fetching data: 'result'\n",
      "Error fetching data: 'result'\n",
      "Error fetching data: 'result'\n",
      "Error fetching data: 'result'\n",
      "Error fetching data: 'result'\n",
      "Error fetching data: 'result'\n",
      "Error fetching data: 'result'\n",
      "Error fetching data: 'result'\n",
      "Error fetching data: 'result'\n",
      "Error fetching data: 'result'\n",
      "Error fetching data: 'result'\n",
      "Error fetching data: 'result'\n"
     ]
    },
    {
     "name": "stderr",
     "output_type": "stream",
     "text": [
      " 82%|████████▏ | 522/634 [00:08<00:02, 55.08it/s]"
     ]
    },
    {
     "name": "stdout",
     "output_type": "stream",
     "text": [
      "Error fetching data: 'result'\n",
      "Error fetching data: 'result'\n",
      "Error fetching data: 'result'\n",
      "Error fetching data: 'result'\n",
      "Error fetching data: 'result'\n",
      "Error fetching data: 'result'\n",
      "Error fetching data: 'result'\n",
      "Error fetching data: 'result'\n",
      "Error fetching data: 'result'\n",
      "Error fetching data: 'result'\n",
      "Error fetching data: 'result'\n",
      "Error fetching data: 'result'\n",
      "Error fetching data: 'result'\n",
      "Error fetching data: 'result'\n"
     ]
    },
    {
     "name": "stderr",
     "output_type": "stream",
     "text": [
      " 86%|████████▌ | 544/634 [00:08<00:01, 59.95it/s]"
     ]
    },
    {
     "name": "stdout",
     "output_type": "stream",
     "text": [
      "Error fetching data: 'result'\n",
      "Error fetching data: 'result'\n",
      "Error fetching data: 'result'\n",
      "Error fetching data: 'result'\n",
      "Error fetching data: 'result'\n",
      "Error fetching data: 'result'\n",
      "Error fetching data: 'result'\n",
      "Error fetching data: 'result'\n",
      "Error fetching data: 'result'\n",
      "Error fetching data: 'result'\n",
      "Error fetching data: 'result'\n",
      "Error fetching data: 'result'\n",
      "Error fetching data: 'result'\n",
      "Error fetching data: 'result'\n"
     ]
    },
    {
     "name": "stderr",
     "output_type": "stream",
     "text": [
      " 89%|████████▉ | 565/634 [00:09<00:01, 62.42it/s]"
     ]
    },
    {
     "name": "stdout",
     "output_type": "stream",
     "text": [
      "Error fetching data: 'result'\n",
      "Error fetching data: 'result'\n",
      "Error fetching data: 'result'\n",
      "Error fetching data: 'result'\n",
      "Error fetching data: 'result'\n",
      "Error fetching data: 'result'\n"
     ]
    },
    {
     "name": "stderr",
     "output_type": "stream",
     "text": [
      " 91%|█████████ | 578/634 [00:09<00:00, 75.81it/s]"
     ]
    },
    {
     "name": "stdout",
     "output_type": "stream",
     "text": [
      "Error fetching data: 'result'\n",
      "Error fetching data: 'result'\n",
      "Error fetching data: 'result'\n",
      "Error fetching data: 'result'\n",
      "Error fetching data: 'result'\n",
      "Error fetching data: 'result'\n",
      "Error fetching data: 'result'\n",
      "Error fetching data: 'result'\n",
      "Error fetching data: 'result'\n",
      "Error fetching data: 'result'\n",
      "Error fetching data: 'result'\n",
      "Error fetching data: 'result'\n"
     ]
    },
    {
     "name": "stderr",
     "output_type": "stream",
     "text": [
      " 95%|█████████▍| 600/634 [00:09<00:00, 76.66it/s]"
     ]
    },
    {
     "name": "stdout",
     "output_type": "stream",
     "text": [
      "Error fetching data: 'result'\n",
      "Error fetching data: 'result'\n",
      "Error fetching data: 'result'\n",
      "Error fetching data: 'result'\n",
      "Error fetching data: 'result'\n",
      "Error fetching data: 'result'\n",
      "Error fetching data: 'result'\n",
      "Error fetching data: 'result'\n",
      "Error fetching data: 'result'\n",
      "Error fetching data: 'result'\n",
      "Error fetching data: 'result'\n",
      "Error fetching data: 'result'\n",
      "Error fetching data: 'result'\n",
      "Error fetching data: 'result'\n",
      "Error fetching data: 'result'\n"
     ]
    },
    {
     "name": "stderr",
     "output_type": "stream",
     "text": [
      " 96%|█████████▌| 609/634 [00:09<00:00, 67.63it/s]"
     ]
    },
    {
     "name": "stdout",
     "output_type": "stream",
     "text": [
      "Error fetching data: 'result'\n",
      "Error fetching data: 'result'\n",
      "Error fetching data: 'result'\n",
      "Error fetching data: 'result'\n",
      "Error fetching data: 'result'\n",
      "Error fetching data: 'result'\n",
      "Error fetching data: 'result'\n",
      "Error fetching data: 'result'\n",
      "Error fetching data: 'result'\n",
      "Error fetching data: 'result'\n",
      "Error fetching data: 'result'\n",
      "Error fetching data: 'result'\n",
      "Error fetching data: 'result'\n",
      "Error fetching data: 'result'\n"
     ]
    },
    {
     "name": "stderr",
     "output_type": "stream",
     "text": [
      " 99%|█████████▉| 630/634 [00:10<00:00, 70.95it/s]C:\\Users\\ethan\\AppData\\Local\\Temp\\ipykernel_15132\\1889503572.py:81: FutureWarning: The behavior of DataFrame concatenation with empty or all-NA entries is deprecated. In a future version, this will no longer exclude empty or all-NA columns when determining the result dtypes. To retain the old behavior, exclude the relevant entries before the concat operation.\n",
      "  coin_df = pd.concat(coin_df)\n",
      "100%|██████████| 634/634 [00:10<00:00, 62.66it/s]"
     ]
    },
    {
     "name": "stdout",
     "output_type": "stream",
     "text": [
      "Error fetching data: 'result'\n",
      "Error fetching data: 'result'\n",
      "Error fetching data: 'result'\n",
      "Error fetching data: 'result'\n",
      "Error fetching data: 'result'\n",
      "Error fetching data: 'result'\n",
      "Error fetching data: 'result'\n",
      "Error fetching data: 'result'\n",
      "Error fetching data: 'result'\n",
      "Error fetching data: 'result'\n"
     ]
    },
    {
     "name": "stderr",
     "output_type": "stream",
     "text": [
      "\n",
      "C:\\Users\\ethan\\AppData\\Local\\Temp\\ipykernel_15132\\247996183.py:6: SettingWithCopyWarning: \n",
      "A value is trying to be set on a copy of a slice from a DataFrame.\n",
      "Try using .loc[row_indexer,col_indexer] = value instead\n",
      "\n",
      "See the caveats in the documentation: https://pandas.pydata.org/pandas-docs/stable/user_guide/indexing.html#returning-a-view-versus-a-copy\n",
      "  data['Strike Price'] = pd.to_numeric(data['Strike Price'], errors='coerce').astype('float64')\n"
     ]
    }
   ],
   "source": [
    "data = get_option_data('BTC','month')\n",
    "data=data[[\"instrument_name\", \"Option Type\", \n",
    "           'mark_price', 'underlying_price', 'mark_iv', \n",
    "           'greeks.vega', 'Expiration Date', 'Strike Price', 'Time to Expiration']]\n",
    "\n",
    "data['Strike Price'] = pd.to_numeric(data['Strike Price'], errors='coerce').astype('float64')"
   ]
  },
  {
   "cell_type": "code",
   "execution_count": 3,
   "metadata": {},
   "outputs": [
    {
     "data": {
      "text/plain": [
       "instrument_name       0\n",
       "Option Type           0\n",
       "mark_price            0\n",
       "underlying_price      0\n",
       "mark_iv               0\n",
       "greeks.vega           0\n",
       "Expiration Date       0\n",
       "Strike Price          0\n",
       "Time to Expiration    0\n",
       "dtype: int64"
      ]
     },
     "execution_count": 3,
     "metadata": {},
     "output_type": "execute_result"
    }
   ],
   "source": [
    "data.isnull().sum()"
   ]
  },
  {
   "cell_type": "code",
   "execution_count": 4,
   "metadata": {},
   "outputs": [
    {
     "data": {
      "text/html": [
       "<div>\n",
       "<style scoped>\n",
       "    .dataframe tbody tr th:only-of-type {\n",
       "        vertical-align: middle;\n",
       "    }\n",
       "\n",
       "    .dataframe tbody tr th {\n",
       "        vertical-align: top;\n",
       "    }\n",
       "\n",
       "    .dataframe thead th {\n",
       "        text-align: right;\n",
       "    }\n",
       "</style>\n",
       "<table border=\"1\" class=\"dataframe\">\n",
       "  <thead>\n",
       "    <tr style=\"text-align: right;\">\n",
       "      <th></th>\n",
       "      <th>instrument_name</th>\n",
       "      <th>Option Type</th>\n",
       "      <th>mark_price</th>\n",
       "      <th>underlying_price</th>\n",
       "      <th>mark_iv</th>\n",
       "      <th>greeks.vega</th>\n",
       "      <th>Expiration Date</th>\n",
       "      <th>Strike Price</th>\n",
       "      <th>Time to Expiration</th>\n",
       "    </tr>\n",
       "  </thead>\n",
       "  <tbody>\n",
       "    <tr>\n",
       "      <th>0</th>\n",
       "      <td>BTC-29NOV24-34000-P</td>\n",
       "      <td>Put</td>\n",
       "      <td>0.0001</td>\n",
       "      <td>72136.16</td>\n",
       "      <td>92.89</td>\n",
       "      <td>1.01404</td>\n",
       "      <td>29NOV24</td>\n",
       "      <td>34000.0</td>\n",
       "      <td>0.079452</td>\n",
       "    </tr>\n",
       "    <tr>\n",
       "      <th>0</th>\n",
       "      <td>BTC-29NOV24-32000-P</td>\n",
       "      <td>Put</td>\n",
       "      <td>0.0001</td>\n",
       "      <td>72136.16</td>\n",
       "      <td>93.16</td>\n",
       "      <td>0.51601</td>\n",
       "      <td>29NOV24</td>\n",
       "      <td>32000.0</td>\n",
       "      <td>0.079452</td>\n",
       "    </tr>\n",
       "    <tr>\n",
       "      <th>0</th>\n",
       "      <td>BTC-29NOV24-38000-C</td>\n",
       "      <td>Call</td>\n",
       "      <td>0.4737</td>\n",
       "      <td>72136.16</td>\n",
       "      <td>92.89</td>\n",
       "      <td>3.21594</td>\n",
       "      <td>29NOV24</td>\n",
       "      <td>38000.0</td>\n",
       "      <td>0.079452</td>\n",
       "    </tr>\n",
       "    <tr>\n",
       "      <th>0</th>\n",
       "      <td>BTC-29NOV24-36000-C</td>\n",
       "      <td>Call</td>\n",
       "      <td>0.5012</td>\n",
       "      <td>72136.16</td>\n",
       "      <td>92.89</td>\n",
       "      <td>1.87570</td>\n",
       "      <td>29NOV24</td>\n",
       "      <td>36000.0</td>\n",
       "      <td>0.079452</td>\n",
       "    </tr>\n",
       "    <tr>\n",
       "      <th>0</th>\n",
       "      <td>BTC-29NOV24-40000-P</td>\n",
       "      <td>Put</td>\n",
       "      <td>0.0008</td>\n",
       "      <td>72136.16</td>\n",
       "      <td>92.32</td>\n",
       "      <td>4.80946</td>\n",
       "      <td>29NOV24</td>\n",
       "      <td>40000.0</td>\n",
       "      <td>0.079452</td>\n",
       "    </tr>\n",
       "    <tr>\n",
       "      <th>...</th>\n",
       "      <td>...</td>\n",
       "      <td>...</td>\n",
       "      <td>...</td>\n",
       "      <td>...</td>\n",
       "      <td>...</td>\n",
       "      <td>...</td>\n",
       "      <td>...</td>\n",
       "      <td>...</td>\n",
       "      <td>...</td>\n",
       "    </tr>\n",
       "    <tr>\n",
       "      <th>0</th>\n",
       "      <td>BTC-26SEP25-120000-P</td>\n",
       "      <td>Put</td>\n",
       "      <td>0.6989</td>\n",
       "      <td>73786.36</td>\n",
       "      <td>58.33</td>\n",
       "      <td>234.12147</td>\n",
       "      <td>26SEP25</td>\n",
       "      <td>120000.0</td>\n",
       "      <td>0.904110</td>\n",
       "    </tr>\n",
       "    <tr>\n",
       "      <th>0</th>\n",
       "      <td>BTC-26SEP25-140000-C</td>\n",
       "      <td>Call</td>\n",
       "      <td>0.0492</td>\n",
       "      <td>73787.48</td>\n",
       "      <td>59.61</td>\n",
       "      <td>195.88070</td>\n",
       "      <td>26SEP25</td>\n",
       "      <td>140000.0</td>\n",
       "      <td>0.904110</td>\n",
       "    </tr>\n",
       "    <tr>\n",
       "      <th>0</th>\n",
       "      <td>BTC-26SEP25-140000-P</td>\n",
       "      <td>Put</td>\n",
       "      <td>0.9466</td>\n",
       "      <td>73787.48</td>\n",
       "      <td>59.60</td>\n",
       "      <td>195.87219</td>\n",
       "      <td>26SEP25</td>\n",
       "      <td>140000.0</td>\n",
       "      <td>0.904110</td>\n",
       "    </tr>\n",
       "    <tr>\n",
       "      <th>0</th>\n",
       "      <td>BTC-26SEP25-160000-C</td>\n",
       "      <td>Call</td>\n",
       "      <td>0.0376</td>\n",
       "      <td>73787.48</td>\n",
       "      <td>62.09</td>\n",
       "      <td>167.37643</td>\n",
       "      <td>26SEP25</td>\n",
       "      <td>160000.0</td>\n",
       "      <td>0.904110</td>\n",
       "    </tr>\n",
       "    <tr>\n",
       "      <th>0</th>\n",
       "      <td>BTC-26SEP25-170000-C</td>\n",
       "      <td>Call</td>\n",
       "      <td>0.0326</td>\n",
       "      <td>73787.48</td>\n",
       "      <td>62.83</td>\n",
       "      <td>153.66584</td>\n",
       "      <td>26SEP25</td>\n",
       "      <td>170000.0</td>\n",
       "      <td>0.904110</td>\n",
       "    </tr>\n",
       "  </tbody>\n",
       "</table>\n",
       "<p>294 rows × 9 columns</p>\n",
       "</div>"
      ],
      "text/plain": [
       "         instrument_name Option Type  mark_price  underlying_price  mark_iv  \\\n",
       "0    BTC-29NOV24-34000-P         Put      0.0001          72136.16    92.89   \n",
       "0    BTC-29NOV24-32000-P         Put      0.0001          72136.16    93.16   \n",
       "0    BTC-29NOV24-38000-C        Call      0.4737          72136.16    92.89   \n",
       "0    BTC-29NOV24-36000-C        Call      0.5012          72136.16    92.89   \n",
       "0    BTC-29NOV24-40000-P         Put      0.0008          72136.16    92.32   \n",
       "..                   ...         ...         ...               ...      ...   \n",
       "0   BTC-26SEP25-120000-P         Put      0.6989          73786.36    58.33   \n",
       "0   BTC-26SEP25-140000-C        Call      0.0492          73787.48    59.61   \n",
       "0   BTC-26SEP25-140000-P         Put      0.9466          73787.48    59.60   \n",
       "0   BTC-26SEP25-160000-C        Call      0.0376          73787.48    62.09   \n",
       "0   BTC-26SEP25-170000-C        Call      0.0326          73787.48    62.83   \n",
       "\n",
       "    greeks.vega Expiration Date  Strike Price  Time to Expiration  \n",
       "0       1.01404         29NOV24       34000.0            0.079452  \n",
       "0       0.51601         29NOV24       32000.0            0.079452  \n",
       "0       3.21594         29NOV24       38000.0            0.079452  \n",
       "0       1.87570         29NOV24       36000.0            0.079452  \n",
       "0       4.80946         29NOV24       40000.0            0.079452  \n",
       "..          ...             ...           ...                 ...  \n",
       "0     234.12147         26SEP25      120000.0            0.904110  \n",
       "0     195.88070         26SEP25      140000.0            0.904110  \n",
       "0     195.87219         26SEP25      140000.0            0.904110  \n",
       "0     167.37643         26SEP25      160000.0            0.904110  \n",
       "0     153.66584         26SEP25      170000.0            0.904110  \n",
       "\n",
       "[294 rows x 9 columns]"
      ]
     },
     "execution_count": 4,
     "metadata": {},
     "output_type": "execute_result"
    }
   ],
   "source": [
    "data"
   ]
  },
  {
   "cell_type": "code",
   "execution_count": 5,
   "metadata": {},
   "outputs": [
    {
     "name": "stdout",
     "output_type": "stream",
     "text": [
      "<class 'pandas.core.frame.DataFrame'>\n",
      "Index: 294 entries, 0 to 0\n",
      "Data columns (total 9 columns):\n",
      " #   Column              Non-Null Count  Dtype  \n",
      "---  ------              --------------  -----  \n",
      " 0   instrument_name     294 non-null    object \n",
      " 1   Option Type         294 non-null    object \n",
      " 2   mark_price          294 non-null    float64\n",
      " 3   underlying_price    294 non-null    float64\n",
      " 4   mark_iv             294 non-null    float64\n",
      " 5   greeks.vega         294 non-null    float64\n",
      " 6   Expiration Date     294 non-null    object \n",
      " 7   Strike Price        294 non-null    float64\n",
      " 8   Time to Expiration  294 non-null    float64\n",
      "dtypes: float64(6), object(3)\n",
      "memory usage: 23.0+ KB\n"
     ]
    }
   ],
   "source": [
    "data.info()"
   ]
  },
  {
   "cell_type": "code",
   "execution_count": 6,
   "metadata": {},
   "outputs": [],
   "source": [
    "data.to_csv('data/data.csv', index=False)"
   ]
  }
 ],
 "metadata": {
  "kernelspec": {
   "display_name": "Python 3",
   "language": "python",
   "name": "python3"
  },
  "language_info": {
   "codemirror_mode": {
    "name": "ipython",
    "version": 3
   },
   "file_extension": ".py",
   "mimetype": "text/x-python",
   "name": "python",
   "nbconvert_exporter": "python",
   "pygments_lexer": "ipython3",
   "version": "3.9.13"
  }
 },
 "nbformat": 4,
 "nbformat_minor": 2
}
