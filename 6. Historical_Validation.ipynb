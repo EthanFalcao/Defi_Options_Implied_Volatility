{
 "cells": [
  {
   "cell_type": "code",
   "execution_count": 1,
   "metadata": {},
   "outputs": [],
   "source": [
    "import pandas as pd\n",
    "import numpy as np\n",
    "import json\n",
    "import matplotlib.pyplot as plt\n",
    "import seaborn as sns\n",
    "%config InlineBackend.figure_format ='retina'\n",
    "\n",
    "import warnings\n",
    "warnings.simplefilter(action='ignore', category=FutureWarning)"
   ]
  },
  {
   "cell_type": "markdown",
   "metadata": {},
   "source": [
    "## Import data"
   ]
  },
  {
   "cell_type": "code",
   "execution_count": 2,
   "metadata": {},
   "outputs": [],
   "source": [
    "#btc options data\n",
    "df=pd.read_csv('data/btc_data_bsm.csv', sep=\",\", index_col=0)\n",
    "df = df.reset_index(drop=False)\n",
    "#df.drop(columns=['Unnamed: 0', 'interest_rate'], inplace=True)"
   ]
  },
  {
   "cell_type": "code",
   "execution_count": 2,
   "metadata": {},
   "outputs": [
    {
     "data": {
      "text/html": [
       "<div>\n",
       "<style scoped>\n",
       "    .dataframe tbody tr th:only-of-type {\n",
       "        vertical-align: middle;\n",
       "    }\n",
       "\n",
       "    .dataframe tbody tr th {\n",
       "        vertical-align: top;\n",
       "    }\n",
       "\n",
       "    .dataframe thead th {\n",
       "        text-align: right;\n",
       "    }\n",
       "</style>\n",
       "<table border=\"1\" class=\"dataframe\">\n",
       "  <thead>\n",
       "    <tr style=\"text-align: right;\">\n",
       "      <th></th>\n",
       "    </tr>\n",
       "  </thead>\n",
       "  <tbody>\n",
       "  </tbody>\n",
       "</table>\n",
       "</div>"
      ],
      "text/plain": [
       "Empty DataFrame\n",
       "Columns: []\n",
       "Index: []"
      ]
     },
     "execution_count": 2,
     "metadata": {},
     "output_type": "execute_result"
    }
   ],
   "source": [
    "import requests\n",
    "import pandas as pd\n",
    "\n",
    "# Deribit API endpoint and parameters\n",
    "base_url = 'https://www.deribit.com/api/v2/public'\n",
    "instrument_name = 'BTC-29JUN23-30000-C'  # Replace with the specific instrument name\n",
    "num_trades = 1000  # The maximum number of historical trades to fetch\n",
    "\n",
    "# Fetch historical trades by instrument\n",
    "response = requests.get(\n",
    "    f'{base_url}/get_last_trades_by_instrument',\n",
    "    params={\n",
    "        'instrument_name': instrument_name,\n",
    "        'count': num_trades\n",
    "    }\n",
    ")\n",
    "\n",
    "# Parse the JSON response\n",
    "trades = response.json()['result']['trades']\n",
    "\n",
    "# Convert to a Pandas DataFrame for analysis\n",
    "df = pd.DataFrame(trades)\n",
    "\n",
    "df.head()"
   ]
  }
 ],
 "metadata": {
  "kernelspec": {
   "display_name": "Python 3",
   "language": "python",
   "name": "python3"
  },
  "language_info": {
   "codemirror_mode": {
    "name": "ipython",
    "version": 3
   },
   "file_extension": ".py",
   "mimetype": "text/x-python",
   "name": "python",
   "nbconvert_exporter": "python",
   "pygments_lexer": "ipython3",
   "version": "3.12.3"
  }
 },
 "nbformat": 4,
 "nbformat_minor": 2
}
