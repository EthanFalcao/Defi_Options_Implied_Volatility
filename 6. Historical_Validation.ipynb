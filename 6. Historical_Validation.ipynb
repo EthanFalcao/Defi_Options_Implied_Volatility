{
 "cells": [
  {
   "cell_type": "code",
   "execution_count": 1,
   "metadata": {},
   "outputs": [],
   "source": [
    "import pandas as pd\n",
    "import numpy as np\n",
    "import json\n",
    "import matplotlib.pyplot as plt\n",
    "import seaborn as sns\n",
    "%config InlineBackend.figure_format ='retina'\n",
    "\n",
    "import warnings\n",
    "warnings.simplefilter(action='ignore', category=FutureWarning)"
   ]
  },
  {
   "cell_type": "markdown",
   "metadata": {},
   "source": [
    "## Import data"
   ]
  },
  {
   "cell_type": "code",
   "execution_count": 2,
   "metadata": {},
   "outputs": [],
   "source": [
    "#btc options data\n",
    "df=pd.read_csv('data/btc_data_bsm.csv', sep=\",\", index_col=0)\n",
    "df = df.reset_index(drop=False)\n",
    "#df.drop(columns=['Unnamed: 0', 'interest_rate'], inplace=True)"
   ]
  },
  {
   "cell_type": "code",
   "execution_count": 1,
   "metadata": {},
   "outputs": [
    {
     "name": "stdout",
     "output_type": "stream",
     "text": [
      "             1. open   2. high    3. low  4. close        volume\n",
      "2023-07-20  29916.69  30421.29  29564.19  29809.13  11494.953488\n",
      "2023-07-21  29809.13  30060.28  29729.48  29907.98   7597.810267\n",
      "2023-07-22  29907.15  30002.38  29626.86  29795.03   3629.482511\n",
      "2023-07-23  29793.62  30350.70  29733.55  30081.61   4513.832143\n",
      "2023-07-24  30081.61  30099.99  28850.00  29176.98  14484.275440\n"
     ]
    }
   ],
   "source": [
    "import requests\n",
    "import pandas as pd\n",
    "from datetime import datetime\n",
    "\n",
    "# Alpha Vantage API configuration\n",
    "API_KEY = 'NW05RFO7K02SAMAL'\n",
    "SYMBOL = 'BTC'\n",
    "MARKET = 'USD'\n",
    "\n",
    "def fetch_historical_data(symbol, market, api_key):\n",
    "    url = f'https://www.alphavantage.co/query?function=DIGITAL_CURRENCY_DAILY&symbol={symbol}&market={market}&apikey={api_key}'\n",
    "    response = requests.get(url)\n",
    "    data = response.json()\n",
    "    time_series = data.get('Time Series (Digital Currency Daily)', {})\n",
    "    \n",
    "    # Convert to DataFrame\n",
    "    df = pd.DataFrame.from_dict(time_series, orient='index')\n",
    "    df.index = pd.to_datetime(df.index)\n",
    "    df = df.sort_index()\n",
    "    \n",
    "    # Rename columns for convenience\n",
    "    df.rename(columns={\n",
    "        '1a. open (USD)': 'open',\n",
    "        '2a. high (USD)': 'high',\n",
    "        '3a. low (USD)': 'low',\n",
    "        '4a. close (USD)': 'close',\n",
    "        '5. volume': 'volume',\n",
    "        '6. market cap (USD)': 'market_cap'\n",
    "    }, inplace=True)\n",
    "    \n",
    "    # Convert to numeric\n",
    "    df = df.apply(pd.to_numeric)\n",
    "    return df\n",
    "\n",
    "# Fetch the data\n",
    "historical_data = fetch_historical_data(SYMBOL, MARKET, API_KEY)\n",
    "print(historical_data.head())\n"
   ]
  },
  {
   "cell_type": "code",
   "execution_count": null,
   "metadata": {},
   "outputs": [],
   "source": []
  },
  {
   "cell_type": "code",
   "execution_count": null,
   "metadata": {},
   "outputs": [],
   "source": []
  }
 ],
 "metadata": {
  "kernelspec": {
   "display_name": "Python 3",
   "language": "python",
   "name": "python3"
  },
  "language_info": {
   "codemirror_mode": {
    "name": "ipython",
    "version": 3
   },
   "file_extension": ".py",
   "mimetype": "text/x-python",
   "name": "python",
   "nbconvert_exporter": "python",
   "pygments_lexer": "ipython3",
   "version": "3.12.3"
  }
 },
 "nbformat": 4,
 "nbformat_minor": 2
}
