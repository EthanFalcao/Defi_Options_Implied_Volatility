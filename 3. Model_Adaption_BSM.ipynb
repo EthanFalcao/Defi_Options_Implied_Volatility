{
 "cells": [
  {
   "cell_type": "code",
   "execution_count": 1,
   "metadata": {},
   "outputs": [],
   "source": [
    "import pandas as pd\n",
    "import numpy as np\n",
    "import json\n",
    "import matplotlib.pyplot as plt\n",
    "import seaborn as sns\n",
    "%config InlineBackend.figure_format ='retina'\n",
    "\n",
    "import warnings\n",
    "warnings.simplefilter(action='ignore', category=FutureWarning)"
   ]
  },
  {
   "cell_type": "markdown",
   "metadata": {},
   "source": [
    "## Import data"
   ]
  },
  {
   "cell_type": "code",
   "execution_count": 2,
   "metadata": {},
   "outputs": [],
   "source": [
    "#btc options data\n",
    "df=pd.read_csv('data/btc_data.csv', sep=\",\", index_col=0)\n",
    "\n",
    "#df.drop(columns=['Unnamed: 0', 'interest_rate'], inplace=True)\n"
   ]
  },
  {
   "cell_type": "code",
   "execution_count": 3,
   "metadata": {},
   "outputs": [
    {
     "name": "stdout",
     "output_type": "stream",
     "text": [
      "<class 'pandas.core.frame.DataFrame'>\n",
      "Index: 1029 entries, 0 to 1029\n",
      "Data columns (total 34 columns):\n",
      " #   Column              Non-Null Count  Dtype  \n",
      "---  ------              --------------  -----  \n",
      " 0   best_bid_amount     1029 non-null   float64\n",
      " 1   best_ask_amount     1029 non-null   float64\n",
      " 2   bid_iv              1029 non-null   float64\n",
      " 3   ask_iv              1029 non-null   float64\n",
      " 4   underlying_index    1029 non-null   object \n",
      " 5   underlying_price    1029 non-null   float64\n",
      " 6   mark_iv             1029 non-null   float64\n",
      " 7   best_bid_price      1029 non-null   float64\n",
      " 8   best_ask_price      1029 non-null   float64\n",
      " 9   open_interest       1029 non-null   float64\n",
      " 10  max_price           1029 non-null   float64\n",
      " 11  min_price           1029 non-null   float64\n",
      " 12  last_price          864 non-null    float64\n",
      " 13  asks                1029 non-null   object \n",
      " 14  bids                1029 non-null   object \n",
      " 15  settlement_price    989 non-null    float64\n",
      " 16  instrument_name     1029 non-null   object \n",
      " 17  mark_price          1029 non-null   float64\n",
      " 18  index_price         1029 non-null   float64\n",
      " 19  change_id           1029 non-null   int64  \n",
      " 20  timestamp           1029 non-null   int64  \n",
      " 21  greeks.rho          1029 non-null   float64\n",
      " 22  greeks.theta        1029 non-null   float64\n",
      " 23  greeks.vega         1029 non-null   float64\n",
      " 24  greeks.gamma        1029 non-null   float64\n",
      " 25  greeks.delta        1029 non-null   float64\n",
      " 26  stats.volume_usd    1029 non-null   float64\n",
      " 27  stats.volume        1029 non-null   float64\n",
      " 28  stats.price_change  331 non-null    float64\n",
      " 29  stats.low           331 non-null    float64\n",
      " 30  stats.high          331 non-null    float64\n",
      " 31  settlement_period   1029 non-null   object \n",
      " 32  Expiration Date     1029 non-null   object \n",
      " 33  Strike Price        1029 non-null   int64  \n",
      "dtypes: float64(25), int64(3), object(6)\n",
      "memory usage: 281.4+ KB\n"
     ]
    }
   ],
   "source": [
    "df.info()"
   ]
  },
  {
   "cell_type": "code",
   "execution_count": null,
   "metadata": {},
   "outputs": [],
   "source": []
  }
 ],
 "metadata": {
  "kernelspec": {
   "display_name": "Python 3",
   "language": "python",
   "name": "python3"
  },
  "language_info": {
   "codemirror_mode": {
    "name": "ipython",
    "version": 3
   },
   "file_extension": ".py",
   "mimetype": "text/x-python",
   "name": "python",
   "nbconvert_exporter": "python",
   "pygments_lexer": "ipython3",
   "version": "3.12.3"
  }
 },
 "nbformat": 4,
 "nbformat_minor": 2
}
